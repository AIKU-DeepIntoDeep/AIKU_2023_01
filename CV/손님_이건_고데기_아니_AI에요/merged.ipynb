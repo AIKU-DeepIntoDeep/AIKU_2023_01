{
 "cells": [
  {
   "attachments": {},
   "cell_type": "markdown",
   "metadata": {},
   "source": [
    "# Overall Process\n",
    "1. Target Rotation\n",
    "2. Super Resolution\n",
    "3. Style Your Hair"
   ]
  },
  {
   "attachments": {},
   "cell_type": "markdown",
   "metadata": {},
   "source": [
    "## Prepare Rotate-and-Render"
   ]
  },
  {
   "cell_type": "code",
   "execution_count": null,
   "metadata": {},
   "outputs": [],
   "source": [
    "!git clone https://github.com/loggerJK/Rotate-and-Render.git\n",
    "%cd Rotate-and-Render/  \n",
    "!pip install -r requirements.txt\n",
    "%cd /content/\n",
    "!git clone https://github.com/adambielski/neural_renderer.git\n",
    "%cd neural_renderer\n",
    "!sudo python3 setup.py install\n",
    "%cd ../\n",
    "!cp '/content/drive/MyDrive/DATASETS/ckpt_and_bfm.zip' '/content/Rotate-and-Render/3ddfa'\n",
    "! unzip '/content/Rotate-and-Render/3ddfa/ckpt_and_bfm.zip' -d '/content/Rotate-and-Render/3ddfa/'\n",
    "! mkdir -p ./checkpoints/rs_model\n",
    "! cp '/content/drive/MyDrive/DATASETS/latest_net_G.pth' './checkpoints/rs_model'\n",
    "!pip install ipdb dominate face-alignment tensorboard --quiet\n",
    "%cd /content/Rotate-and-Render/3ddfa\n",
    "%cd utils/cython\n",
    "!python3 setup.py build_ext -i\n",
    "%cd /content/Rotate-and-Render"
   ]
  },
  {
   "cell_type": "code",
   "execution_count": null,
   "metadata": {},
   "outputs": [],
   "source": [
    "!python3 /content/Rotate-and-Render/test_multipose.py --names rs_model --dataset example --list_start 0 --list_end  10 --dataset_mode allface --gpu_ids 0 --netG rotatespade --norm_G spectralsyncbatch --model rotatespade --label_nc 5 --nThreads 1 --heatmap_size 2.5 --chunk_size 1 --no_gaussian_landmark --device_count 1 --render_thread 1 --label_mask --align --erode_kernel 21 --yaw_poses 00 "
   ]
  }
 ],
 "metadata": {
  "kernelspec": {
   "display_name": "Python 3",
   "language": "python",
   "name": "python3"
  },
  "language_info": {
   "name": "python",
   "version": "3.5.2"
  },
  "orig_nbformat": 4,
  "vscode": {
   "interpreter": {
    "hash": "31f2aee4e71d21fbe5cf8b01ff0e069b9275f58929596ceb00d14d90e3e16cd6"
   }
  }
 },
 "nbformat": 4,
 "nbformat_minor": 2
}
