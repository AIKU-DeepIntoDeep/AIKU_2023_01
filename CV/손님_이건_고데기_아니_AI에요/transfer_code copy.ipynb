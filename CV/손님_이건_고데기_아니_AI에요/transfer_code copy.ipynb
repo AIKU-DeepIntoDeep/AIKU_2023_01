{
  "cells": [
    {
      "cell_type": "code",
      "execution_count": null,
      "metadata": {},
      "outputs": [],
      "source": []
    },
    {
      "cell_type": "markdown",
      "metadata": {
        "id": "eGTdwJhWOduj"
      },
      "source": [
        "## hairstyle transfer"
      ]
    },
    {
      "cell_type": "code",
      "execution_count": 1,
      "metadata": {},
      "outputs": [
        {
          "name": "stdout",
          "output_type": "stream",
          "text": [
            "/home/aiku/AIKU/hair/hairstyle_transfer\n"
          ]
        }
      ],
      "source": [
        "%cd /home/aiku/AIKU/hair/hairstyle_transfer"
      ]
    },
    {
      "cell_type": "code",
      "execution_count": 2,
      "metadata": {
        "id": "OYeau0I-RLZV"
      },
      "outputs": [],
      "source": [
        "import os\n",
        "import shutil\n",
        "import torch\n",
        "from PIL import Image"
      ]
    },
    {
      "cell_type": "code",
      "execution_count": 3,
      "metadata": {},
      "outputs": [],
      "source": [
        "if os.path.exists('exp'):\n",
        "    shutil.rmtree('exp')\n",
        "    os.mkdir('exp')\n",
        "\n",
        "if os.path.exists('data'):\n",
        "    shutil.rmtree('data')"
      ]
    },
    {
      "cell_type": "code",
      "execution_count": 4,
      "metadata": {
        "id": "8ko8Iz9fRAyV"
      },
      "outputs": [],
      "source": [
        "# source image(사용자 이미지)\n",
        "source_path = '/home/aiku/AIKU/hair/source3.png'\n",
        "img1 = Image.open(source_path)\n",
        "# img1 = img1.resize((1024, 1024))\n",
        "img1.save('exp/source.png')"
      ]
    },
    {
      "cell_type": "code",
      "execution_count": 5,
      "metadata": {
        "id": "mtaWjnOcRAyZ"
      },
      "outputs": [],
      "source": [
        "# target image(헤어스타일 이미지)\n",
        "target_path = '/home/aiku/AIKU/hair/target8.png'\n",
        "img2 = Image.open(target_path)\n",
        "# img2 = img2.resize((1024, 1024))\n",
        "img2.save('exp/target.png')"
      ]
    },
    {
      "cell_type": "code",
      "execution_count": 6,
      "metadata": {},
      "outputs": [],
      "source": [
        "from argparse import ArgumentParser\n",
        "from unittest import result\n",
        "\n",
        "from hairstyle_transfer_tool import Tool\n",
        "\n",
        "def run_inference(tool, mode, source, target, alpha_blend, n_steps_interp = None, face_interp = None):\n",
        "    if mode == 'transfer':\n",
        "        paths_to_results = tool.hairstyle_transfer(source, target, alpha_blend = alpha_blend)\n",
        "    elif mode == 'interp':\n",
        "        paths_to_results = tool.interpolation_single_pair(source, target, n_steps=n_steps_interp, interpolate_hair = not face_interp, alpha_blend = alpha_blend)\n",
        "    elif mode == 'manip':\n",
        "        paths_to_results = tool.hair_manipulation_single(source, args['manip_attribute'], coeffs=args['manip_strength'], alpha_blend= alpha_blend)\n",
        "    else:\n",
        "        raise 'Mode not recognized'\n",
        "    return paths_to_results\n",
        "\n",
        "\n",
        "# if __name__ == '__main__':\n",
        "#     # args = parse_args()\n",
        "#     print(f'All done')\n",
        "#     tool = Tool(opts=None, result_path='./data/results/', checkpoint_path='./best_model.pt')\n",
        "#     paths_to_results =run_inference(tool, mode='transfer',source='./exp/target.png', target='./exp/source.png', alpha_blend=True )\n",
        "#     print(f'Results saved as: {paths_to_results}')"
      ]
    },
    {
      "cell_type": "code",
      "execution_count": 7,
      "metadata": {},
      "outputs": [
        {
          "name": "stdout",
          "output_type": "stream",
          "text": [
            "Using BackboneEncoderUsingLastLayerIntoWPlus\n",
            "Using BackboneEncoderUsingLastLayerIntoWPlus\n",
            "Loading pSp from checkpoint: ./best_model.pt\n",
            "Number of faces detected: 1\n",
            "Detection 0: Left: 233 Top: 357 Right: 788 Bottom: 911\n",
            "Part 0: (240, 495), Part 1: (246, 567) ...\n"
          ]
        },
        {
          "name": "stderr",
          "output_type": "stream",
          "text": [
            "Lossy conversion from float64 to uint8. Range [0.0, 255.0]. Convert image to uint8 prior to saving to suppress this warning.\n"
          ]
        },
        {
          "name": "stdout",
          "output_type": "stream",
          "text": [
            "Number of faces detected: 1\n",
            "Detection 0: Left: 171 Top: 233 Right: 726 Bottom: 788\n",
            "Part 0: (227, 418), Part 1: (227, 479) ...\n"
          ]
        },
        {
          "name": "stderr",
          "output_type": "stream",
          "text": [
            "Lossy conversion from float64 to uint8. Range [0.0, 228.0]. Convert image to uint8 prior to saving to suppress this warning.\n",
            "Lossy conversion from float64 to uint8. Range [0.0, 253.0]. Convert image to uint8 prior to saving to suppress this warning.\n"
          ]
        },
        {
          "data": {
            "text/plain": [
              "'./data/results/target_source_blend_True.jpg'"
            ]
          },
          "execution_count": 7,
          "metadata": {},
          "output_type": "execute_result"
        }
      ],
      "source": [
        "run_inference(tool=Tool(opts=None, result_path='./data/results/', checkpoint_path='./best_model.pt'),\n",
        "               mode='transfer', source='./exp/target.png', target='./exp/source.png', alpha_blend=True )"
      ]
    },
    {
      "cell_type": "code",
      "execution_count": 8,
      "metadata": {},
      "outputs": [
        {
          "name": "stdout",
          "output_type": "stream",
          "text": [
            "Requirement already satisfied: gradio in /home/aiku/AIKU/anaconda3/envs/hair/lib/python3.9/site-packages (3.21.0)\n",
            "Requirement already satisfied: ffmpy in /home/aiku/AIKU/anaconda3/envs/hair/lib/python3.9/site-packages (from gradio) (0.3.0)\n",
            "Requirement already satisfied: pillow in /home/aiku/AIKU/anaconda3/envs/hair/lib/python3.9/site-packages (from gradio) (9.3.0)\n",
            "Requirement already satisfied: websockets>=10.0 in /home/aiku/AIKU/anaconda3/envs/hair/lib/python3.9/site-packages (from gradio) (10.4)\n",
            "Requirement already satisfied: fastapi in /home/aiku/AIKU/anaconda3/envs/hair/lib/python3.9/site-packages (from gradio) (0.94.1)\n",
            "Requirement already satisfied: orjson in /home/aiku/AIKU/anaconda3/envs/hair/lib/python3.9/site-packages (from gradio) (3.8.7)\n",
            "Requirement already satisfied: pyyaml in /home/aiku/AIKU/anaconda3/envs/hair/lib/python3.9/site-packages (from gradio) (6.0)\n",
            "Requirement already satisfied: pandas in /home/aiku/AIKU/anaconda3/envs/hair/lib/python3.9/site-packages (from gradio) (1.5.3)\n",
            "Requirement already satisfied: typing-extensions in /home/aiku/AIKU/anaconda3/envs/hair/lib/python3.9/site-packages (from gradio) (4.4.0)\n",
            "Requirement already satisfied: uvicorn in /home/aiku/AIKU/anaconda3/envs/hair/lib/python3.9/site-packages (from gradio) (0.21.0)\n",
            "Requirement already satisfied: pydantic in /home/aiku/AIKU/anaconda3/envs/hair/lib/python3.9/site-packages (from gradio) (1.10.6)\n",
            "Requirement already satisfied: altair>=4.2.0 in /home/aiku/AIKU/anaconda3/envs/hair/lib/python3.9/site-packages (from gradio) (4.2.2)\n",
            "Requirement already satisfied: httpx in /home/aiku/AIKU/anaconda3/envs/hair/lib/python3.9/site-packages (from gradio) (0.23.3)\n",
            "Requirement already satisfied: pydub in /home/aiku/AIKU/anaconda3/envs/hair/lib/python3.9/site-packages (from gradio) (0.25.1)\n",
            "Requirement already satisfied: matplotlib in /home/aiku/AIKU/anaconda3/envs/hair/lib/python3.9/site-packages (from gradio) (3.7.0)\n",
            "Requirement already satisfied: aiohttp in /home/aiku/AIKU/anaconda3/envs/hair/lib/python3.9/site-packages (from gradio) (3.8.4)\n",
            "Requirement already satisfied: markupsafe in /home/aiku/AIKU/anaconda3/envs/hair/lib/python3.9/site-packages (from gradio) (2.1.1)\n",
            "Requirement already satisfied: numpy in /home/aiku/AIKU/anaconda3/envs/hair/lib/python3.9/site-packages (from gradio) (1.23.5)\n",
            "Requirement already satisfied: requests in /home/aiku/AIKU/anaconda3/envs/hair/lib/python3.9/site-packages (from gradio) (2.28.1)\n",
            "Requirement already satisfied: fsspec in /home/aiku/AIKU/anaconda3/envs/hair/lib/python3.9/site-packages (from gradio) (2023.3.0)\n",
            "Requirement already satisfied: python-multipart in /home/aiku/AIKU/anaconda3/envs/hair/lib/python3.9/site-packages (from gradio) (0.0.6)\n",
            "Requirement already satisfied: mdit-py-plugins<=0.3.3 in /home/aiku/AIKU/anaconda3/envs/hair/lib/python3.9/site-packages (from gradio) (0.3.3)\n",
            "Requirement already satisfied: markdown-it-py[linkify]>=2.0.0 in /home/aiku/AIKU/anaconda3/envs/hair/lib/python3.9/site-packages (from gradio) (2.2.0)\n",
            "Requirement already satisfied: huggingface-hub>=0.13.0 in /home/aiku/AIKU/anaconda3/envs/hair/lib/python3.9/site-packages (from gradio) (0.13.2)\n",
            "Requirement already satisfied: aiofiles in /home/aiku/AIKU/anaconda3/envs/hair/lib/python3.9/site-packages (from gradio) (23.1.0)\n",
            "Requirement already satisfied: jinja2 in /home/aiku/AIKU/anaconda3/envs/hair/lib/python3.9/site-packages (from gradio) (3.1.2)\n",
            "Requirement already satisfied: toolz in /home/aiku/AIKU/anaconda3/envs/hair/lib/python3.9/site-packages (from altair>=4.2.0->gradio) (0.12.0)\n",
            "Requirement already satisfied: jsonschema>=3.0 in /home/aiku/AIKU/anaconda3/envs/hair/lib/python3.9/site-packages (from altair>=4.2.0->gradio) (4.17.3)\n",
            "Requirement already satisfied: entrypoints in /home/aiku/AIKU/anaconda3/envs/hair/lib/python3.9/site-packages (from altair>=4.2.0->gradio) (0.4)\n",
            "Requirement already satisfied: filelock in /home/aiku/AIKU/anaconda3/envs/hair/lib/python3.9/site-packages (from huggingface-hub>=0.13.0->gradio) (3.9.0)\n",
            "Requirement already satisfied: packaging>=20.9 in /home/aiku/AIKU/anaconda3/envs/hair/lib/python3.9/site-packages (from huggingface-hub>=0.13.0->gradio) (23.0)\n",
            "Requirement already satisfied: tqdm>=4.42.1 in /home/aiku/AIKU/anaconda3/envs/hair/lib/python3.9/site-packages (from huggingface-hub>=0.13.0->gradio) (4.64.1)\n",
            "Requirement already satisfied: mdurl~=0.1 in /home/aiku/AIKU/anaconda3/envs/hair/lib/python3.9/site-packages (from markdown-it-py[linkify]>=2.0.0->gradio) (0.1.2)\n",
            "Requirement already satisfied: linkify-it-py<3,>=1 in /home/aiku/AIKU/anaconda3/envs/hair/lib/python3.9/site-packages (from markdown-it-py[linkify]>=2.0.0->gradio) (2.0.0)\n",
            "Requirement already satisfied: pytz>=2020.1 in /home/aiku/AIKU/anaconda3/envs/hair/lib/python3.9/site-packages (from pandas->gradio) (2022.7.1)\n",
            "Requirement already satisfied: python-dateutil>=2.8.1 in /home/aiku/AIKU/anaconda3/envs/hair/lib/python3.9/site-packages (from pandas->gradio) (2.8.2)\n",
            "Requirement already satisfied: charset-normalizer<4.0,>=2.0 in /home/aiku/AIKU/anaconda3/envs/hair/lib/python3.9/site-packages (from aiohttp->gradio) (2.0.4)\n",
            "Requirement already satisfied: async-timeout<5.0,>=4.0.0a3 in /home/aiku/AIKU/anaconda3/envs/hair/lib/python3.9/site-packages (from aiohttp->gradio) (4.0.2)\n",
            "Requirement already satisfied: aiosignal>=1.1.2 in /home/aiku/AIKU/anaconda3/envs/hair/lib/python3.9/site-packages (from aiohttp->gradio) (1.3.1)\n",
            "Requirement already satisfied: multidict<7.0,>=4.5 in /home/aiku/AIKU/anaconda3/envs/hair/lib/python3.9/site-packages (from aiohttp->gradio) (6.0.4)\n",
            "Requirement already satisfied: frozenlist>=1.1.1 in /home/aiku/AIKU/anaconda3/envs/hair/lib/python3.9/site-packages (from aiohttp->gradio) (1.3.3)\n",
            "Requirement already satisfied: yarl<2.0,>=1.0 in /home/aiku/AIKU/anaconda3/envs/hair/lib/python3.9/site-packages (from aiohttp->gradio) (1.8.2)\n",
            "Requirement already satisfied: attrs>=17.3.0 in /home/aiku/AIKU/anaconda3/envs/hair/lib/python3.9/site-packages (from aiohttp->gradio) (22.2.0)\n",
            "Requirement already satisfied: starlette<0.27.0,>=0.26.1 in /home/aiku/AIKU/anaconda3/envs/hair/lib/python3.9/site-packages (from fastapi->gradio) (0.26.1)\n",
            "Requirement already satisfied: httpcore<0.17.0,>=0.15.0 in /home/aiku/AIKU/anaconda3/envs/hair/lib/python3.9/site-packages (from httpx->gradio) (0.16.3)\n",
            "Requirement already satisfied: rfc3986[idna2008]<2,>=1.3 in /home/aiku/AIKU/anaconda3/envs/hair/lib/python3.9/site-packages (from httpx->gradio) (1.5.0)\n",
            "Requirement already satisfied: sniffio in /home/aiku/AIKU/anaconda3/envs/hair/lib/python3.9/site-packages (from httpx->gradio) (1.3.0)\n",
            "Requirement already satisfied: certifi in /home/aiku/AIKU/anaconda3/envs/hair/lib/python3.9/site-packages (from httpx->gradio) (2022.12.7)\n",
            "Requirement already satisfied: kiwisolver>=1.0.1 in /home/aiku/AIKU/anaconda3/envs/hair/lib/python3.9/site-packages (from matplotlib->gradio) (1.4.4)\n",
            "Requirement already satisfied: pyparsing>=2.3.1 in /home/aiku/AIKU/anaconda3/envs/hair/lib/python3.9/site-packages (from matplotlib->gradio) (3.0.9)\n",
            "Requirement already satisfied: cycler>=0.10 in /home/aiku/AIKU/anaconda3/envs/hair/lib/python3.9/site-packages (from matplotlib->gradio) (0.11.0)\n",
            "Requirement already satisfied: fonttools>=4.22.0 in /home/aiku/AIKU/anaconda3/envs/hair/lib/python3.9/site-packages (from matplotlib->gradio) (4.38.0)\n",
            "Requirement already satisfied: contourpy>=1.0.1 in /home/aiku/AIKU/anaconda3/envs/hair/lib/python3.9/site-packages (from matplotlib->gradio) (1.0.7)\n",
            "Requirement already satisfied: importlib-resources>=3.2.0 in /home/aiku/AIKU/anaconda3/envs/hair/lib/python3.9/site-packages (from matplotlib->gradio) (5.12.0)\n",
            "Requirement already satisfied: urllib3<1.27,>=1.21.1 in /home/aiku/AIKU/anaconda3/envs/hair/lib/python3.9/site-packages (from requests->gradio) (1.26.14)\n",
            "Requirement already satisfied: idna<4,>=2.5 in /home/aiku/AIKU/anaconda3/envs/hair/lib/python3.9/site-packages (from requests->gradio) (3.4)\n",
            "Requirement already satisfied: h11>=0.8 in /home/aiku/AIKU/anaconda3/envs/hair/lib/python3.9/site-packages (from uvicorn->gradio) (0.14.0)\n",
            "Requirement already satisfied: click>=7.0 in /home/aiku/AIKU/anaconda3/envs/hair/lib/python3.9/site-packages (from uvicorn->gradio) (8.1.3)\n",
            "Requirement already satisfied: anyio<5.0,>=3.0 in /home/aiku/AIKU/anaconda3/envs/hair/lib/python3.9/site-packages (from httpcore<0.17.0,>=0.15.0->httpx->gradio) (3.6.2)\n",
            "Requirement already satisfied: zipp>=3.1.0 in /home/aiku/AIKU/anaconda3/envs/hair/lib/python3.9/site-packages (from importlib-resources>=3.2.0->matplotlib->gradio) (3.15.0)\n",
            "Requirement already satisfied: pyrsistent!=0.17.0,!=0.17.1,!=0.17.2,>=0.14.0 in /home/aiku/AIKU/anaconda3/envs/hair/lib/python3.9/site-packages (from jsonschema>=3.0->altair>=4.2.0->gradio) (0.18.0)\n",
            "Requirement already satisfied: uc-micro-py in /home/aiku/AIKU/anaconda3/envs/hair/lib/python3.9/site-packages (from linkify-it-py<3,>=1->markdown-it-py[linkify]>=2.0.0->gradio) (1.0.1)\n",
            "Requirement already satisfied: six>=1.5 in /home/aiku/AIKU/anaconda3/envs/hair/lib/python3.9/site-packages (from python-dateutil>=2.8.1->pandas->gradio) (1.16.0)\n"
          ]
        }
      ],
      "source": [
        "!pip install gradio"
      ]
    },
    {
      "cell_type": "code",
      "execution_count": 9,
      "metadata": {},
      "outputs": [
        {
          "name": "stdout",
          "output_type": "stream",
          "text": [
            "/home/aiku/AIKU/hair/hairstyle_transfer\n"
          ]
        }
      ],
      "source": [
        "!pwd"
      ]
    },
    {
      "cell_type": "code",
      "execution_count": 19,
      "metadata": {},
      "outputs": [
        {
          "name": "stdout",
          "output_type": "stream",
          "text": [
            "Current working directory: /home/aiku/AIKU/hair\n",
            "Current working directory: /home/aiku/AIKU\n"
          ]
        },
        {
          "ename": "ModuleNotFoundError",
          "evalue": "No module named 'utils.ddfa'; 'utils' is not a package",
          "output_type": "error",
          "traceback": [
            "\u001b[0;31m---------------------------------------------------------------------------\u001b[0m",
            "\u001b[0;31mModuleNotFoundError\u001b[0m                       Traceback (most recent call last)",
            "Cell \u001b[0;32mIn[19], line 16\u001b[0m\n\u001b[1;32m     14\u001b[0m os\u001b[39m.\u001b[39mchdir(\u001b[39m'\u001b[39m\u001b[39m../\u001b[39m\u001b[39m'\u001b[39m)\n\u001b[1;32m     15\u001b[0m \u001b[39mprint\u001b[39m(\u001b[39m\"\u001b[39m\u001b[39mCurrent working directory: \u001b[39m\u001b[39m{0}\u001b[39;00m\u001b[39m\"\u001b[39m\u001b[39m.\u001b[39mformat(os\u001b[39m.\u001b[39mgetcwd()))\n\u001b[0;32m---> 16\u001b[0m \u001b[39mfrom\u001b[39;00m \u001b[39minference\u001b[39;00m \u001b[39mimport\u001b[39;00m run_3ddfa\n\u001b[1;32m     19\u001b[0m process1_res_path \u001b[39m=\u001b[39m \u001b[39m'\u001b[39m\u001b[39m/home/aiku/AIKU/hair/rotateandrender/results/rs_model/example/orig/yaw_0.0_input.png\u001b[39m\u001b[39m'\u001b[39m\n\u001b[1;32m     20\u001b[0m result_path \u001b[39m=\u001b[39m \u001b[39m'\u001b[39m\u001b[39m./data/results/\u001b[39m\u001b[39m'\u001b[39m\n",
            "File \u001b[0;32m~/AIKU/hair/rotateandrender/3ddfa/inference.py:23\u001b[0m\n\u001b[1;32m     21\u001b[0m \u001b[39mimport\u001b[39;00m \u001b[39mtime\u001b[39;00m\n\u001b[1;32m     22\u001b[0m \u001b[39mimport\u001b[39;00m \u001b[39mface_alignment\u001b[39;00m\n\u001b[0;32m---> 23\u001b[0m \u001b[39mfrom\u001b[39;00m \u001b[39mutils\u001b[39;00m\u001b[39m.\u001b[39;00m\u001b[39mddfa\u001b[39;00m \u001b[39mimport\u001b[39;00m ToTensorGjz, NormalizeGjz, str2bool\n\u001b[1;32m     24\u001b[0m \u001b[39mimport\u001b[39;00m \u001b[39mscipy\u001b[39;00m\u001b[39m.\u001b[39;00m\u001b[39mio\u001b[39;00m \u001b[39mas\u001b[39;00m \u001b[39msio\u001b[39;00m\n\u001b[1;32m     25\u001b[0m \u001b[39mfrom\u001b[39;00m \u001b[39mutils\u001b[39;00m\u001b[39m.\u001b[39;00m\u001b[39minference\u001b[39;00m \u001b[39mimport\u001b[39;00m get_suffix, parse_roi_box_from_landmark, crop_img, predict_68pts, dump_to_ply, dump_vertex, \\\n\u001b[1;32m     26\u001b[0m     draw_landmarks, predict_dense, parse_roi_box_from_bbox, get_colors, write_obj_with_colors, get_aligned_param, get_5lmk_from_68lmk\n",
            "\u001b[0;31mModuleNotFoundError\u001b[0m: No module named 'utils.ddfa'; 'utils' is not a package"
          ]
        }
      ],
      "source": [
        "import gradio as gr\n",
        "import numpy as np\n",
        "from PIL import Image\n",
        "\n",
        "ddfa_path = '/home/aiku/AIKU/hair/rotateandrender/3ddfa'\n",
        "module_path ='/home/aiku/AIKU/hair/rotateandrender/'\n",
        "import sys\n",
        "import os\n",
        "sys.path.insert(0,ddfa_path)\n",
        "sys.path.insert(0,module_path)\n",
        "from data import curve\n",
        "from rotateandrender.rotate_and_render import inference_3d\n",
        "print(\"Current working directory: {0}\".format(os.getcwd()))\n",
        "os.chdir('../')\n",
        "print(\"Current working directory: {0}\".format(os.getcwd()))\n",
        "from inference import run_3ddfa\n",
        "\n",
        "\n",
        "process1_res_path = '/home/aiku/AIKU/hair/rotateandrender/results/rs_model/example/orig/yaw_0.0_input.png'\n",
        "result_path = './data/results/'\n",
        "\n",
        "def process(input):\n",
        "    \n",
        "    break\n",
        "    os.chdir('./rotateandrender/3ddfa')\n",
        "    run_3ddfa()\n",
        "\n",
        "    os.chdir('../')\n",
        "    inference_3d()\n",
        "    \n",
        "    # run_inference(tool=Tool(opts=None, result_path='./data/results/', checkpoint_path='./best_model.pt'),\n",
        "    #            mode='transfer', source='./exp/target.png', target='./exp/source.png', alpha_blend=True )\n",
        "    run_inference(tool=Tool(opts=None, result_path='./data/results/', checkpoint_path='./best_model.pt'),\n",
        "               mode='transfer', source='./exp/target.png', target=process1_res_path, alpha_blend=True )\n",
        "    \n",
        "    img1 = Image.open('./data/results/target_source_blend_False.jpg')\n",
        "    return img1\n",
        "\n",
        "demo = gr.Interface(fn=process, inputs=\"text\", outputs=\"image\")\n",
        "\n",
        "demo.launch(share=True)"
      ]
    }
  ],
  "metadata": {
    "accelerator": "GPU",
    "colab": {
      "provenance": [],
      "toc_visible": true
    },
    "gpuClass": "standard",
    "kernelspec": {
      "display_name": "hair",
      "language": "python",
      "name": "python3"
    },
    "language_info": {
      "codemirror_mode": {
        "name": "ipython",
        "version": 3
      },
      "file_extension": ".py",
      "mimetype": "text/x-python",
      "name": "python",
      "nbconvert_exporter": "python",
      "pygments_lexer": "ipython3",
      "version": "3.9.16"
    },
    "vscode": {
      "interpreter": {
        "hash": "641a6ac1301de007d9518d93ddfd1d063977fbccf7b1973ded65770e7d2dfcc4"
      }
    }
  },
  "nbformat": 4,
  "nbformat_minor": 0
}
