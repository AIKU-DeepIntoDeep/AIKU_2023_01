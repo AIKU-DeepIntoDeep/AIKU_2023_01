{
  "cells": [
    {
      "cell_type": "markdown",
      "metadata": {
        "id": "zBnKHx8LXM-b"
      },
      "source": [
        "# GRADIO"
      ]
    },
    {
      "cell_type": "code",
      "execution_count": null,
      "metadata": {
        "colab": {
          "base_uri": "https://localhost:8080/"
        },
        "id": "bQ4xj1qaXMU-",
        "outputId": "1f65a752-2d16-420d-eb02-8f94f2971ca4"
      },
      "outputs": [],
      "source": [
        "!pip install gradio"
      ]
    },
    {
      "cell_type": "code",
      "execution_count": null,
      "metadata": {},
      "outputs": [],
      "source": [
        "print(\"hello\")"
      ]
    },
    {
      "cell_type": "code",
      "execution_count": 3,
      "metadata": {
        "id": "kXZypvPRXMwz"
      },
      "outputs": [
        {
          "name": "stdout",
          "output_type": "stream",
          "text": [
            "\n",
            "Thanks for being a Gradio user! If you have questions or feedback, please join our Discord server and chat with us: https://discord.gg/feTf9x3ZSB\n",
            "Running on local URL:  http://127.0.0.1:7863\n",
            "\n",
            "To create a public link, set `share=True` in `launch()`.\n"
          ]
        },
        {
          "data": {
            "text/html": [
              "<div><iframe src=\"http://127.0.0.1:7863/\" width=\"100%\" height=\"500\" allow=\"autoplay; camera; microphone; clipboard-read; clipboard-write;\" frameborder=\"0\" allowfullscreen></iframe></div>"
            ],
            "text/plain": [
              "<IPython.core.display.HTML object>"
            ]
          },
          "metadata": {},
          "output_type": "display_data"
        },
        {
          "data": {
            "text/plain": []
          },
          "execution_count": 3,
          "metadata": {},
          "output_type": "execute_result"
        }
      ],
      "source": [
        "import gradio as gr\n",
        "import numpy as np\n",
        "from PIL import Image\n",
        "def process1():\n",
        "    return None\n",
        "\n",
        "def process2():\n",
        "    return None\n",
        "\n",
        "def process3():\n",
        "    return None\n",
        "\n",
        "def process(input):\n",
        "    img1 = Image.open('./source6.jpg')\n",
        "    a = np.array(img1)\n",
        "    return a\n",
        "    sepia_filter = np.array([\n",
        "        [0.393, 0.769, 0.189], \n",
        "        [0.349, 0.686, 0.168], \n",
        "        [0.272, 0.534, 0.131]\n",
        "    ])\n",
        "    sepia_img = input.dot(sepia_filter.T)\n",
        "    sepia_img /= sepia_img.max()\n",
        "    return sepia_img\n",
        "\n",
        "demo = gr.Interface(fn=process, inputs=gr.Image(shape=(200,200)), outputs=\"image\")\n",
        "\n",
        "demo.launch()"
      ]
    },
    {
      "cell_type": "markdown",
      "metadata": {
        "id": "6BIDkdervo7F"
      },
      "source": [
        "# Overall Process\n",
        "1. Target Rotation\n",
        "2. Super Resolution\n",
        "3. Style Your Hair"
      ]
    },
    {
      "cell_type": "code",
      "execution_count": null,
      "metadata": {
        "colab": {
          "base_uri": "https://localhost:8080/"
        },
        "id": "B0QvcBZBxIlK",
        "outputId": "e568f3f0-eba0-451a-b96e-0e8675641fb2"
      },
      "outputs": [],
      "source": [
        "from google.colab import drive\n",
        "drive.mount('/content/drive')"
      ]
    },
    {
      "cell_type": "code",
      "execution_count": null,
      "metadata": {
        "id": "IQjw5QGTjEvX"
      },
      "outputs": [],
      "source": [
        "import os\n",
        "dataset_path = '/content/drive/MyDrive/DATASETS'\n",
        "target_path = os.path.join(dataset_path, 'target.jpg')"
      ]
    },
    {
      "cell_type": "markdown",
      "metadata": {
        "id": "w5VDzCBwvo7I"
      },
      "source": [
        "## Prepare Rotate-and-Render"
      ]
    },
    {
      "cell_type": "code",
      "execution_count": null,
      "metadata": {
        "colab": {
          "base_uri": "https://localhost:8080/"
        },
        "id": "H50hHwQgheJt",
        "outputId": "b3bcc8a4-8344-47f4-aeab-f1f02bb5e573"
      },
      "outputs": [],
      "source": [
        "os.system(\"!git clone https://github.com/adambielski/neural_renderer.git \")"
      ]
    },
    {
      "cell_type": "code",
      "execution_count": null,
      "metadata": {
        "colab": {
          "base_uri": "https://localhost:8080/"
        },
        "id": "dZuOWToah12N",
        "outputId": "ccae9814-de90-4db4-85f1-cd02337e169e"
      },
      "outputs": [],
      "source": [
        "!git clone https://github.com/adambielski/neural_renderer.git"
      ]
    },
    {
      "cell_type": "code",
      "execution_count": null,
      "metadata": {
        "colab": {
          "base_uri": "https://localhost:8080/"
        },
        "id": "rYbmWEg6vo7J",
        "outputId": "d8fd34e8-1d4a-4090-aeb5-0c7db0875f8f"
      },
      "outputs": [],
      "source": [
        "os.system(\"git clone https://github.com/loggerJK/Rotate-and-Render.git\")\n",
        "os.system(\"%cd Rotate-and-Render/  \")\n",
        "os.system(\"!pip install -r Rotate-and-Render/requirements.txt \")\n",
        "os.system(\"%cd /content/ \")\n",
        "os.system(\"!git clone https://github.com/adambielski/neural_renderer.git \")\n",
        "os.system(\"%cd neural_renderer \")\n",
        "os.system(\"!sudo python3 setup.py install \")\n",
        "os.system(\"%cd ../ \")\n",
        "os.system(\"!cp '/content/drive/MyDrive/DATASETS/ckpt_and_bfm.zip' '/content/Rotate-and-Render/3ddfa'\")\n",
        "os.system(\"! unzip '/content/Rotate-and-Render/3ddfa/ckpt_and_bfm.zip' -d '/content/Rotate-and-Render/3ddfa/' \")\n",
        "os.system(\"! mkdir -p /content/Rotate-and-Render/checkpoints/rs_model \")\n",
        "os.system(\"! cp '/content/drive/MyDrive/DATASETS/latest_net_G.pth' '/content/Rotate-and-Render/checkpoints/rs_model' \")\n",
        "os.system(\"!pip install ipdb dominate face-alignment tensorboard --quiet \")\n",
        "os.system(\"%cd /content/Rotate-and-Render/3ddfa \")\n",
        "os.system(\"%cd utils/cython \")\n",
        "os.system(\"!python3 setup.py build_ext -i \")\n",
        "os.system(\"%cd /content/Rotate-and-Render\")"
      ]
    },
    {
      "cell_type": "code",
      "execution_count": null,
      "metadata": {
        "colab": {
          "base_uri": "https://localhost:8080/"
        },
        "id": "rSV3YYxOefP4",
        "outputId": "4d0a87c0-63b1-466a-f70b-1e8179df82bd"
      },
      "outputs": [],
      "source": [
        "os.system(\"git clone https://github.com/loggerJK/Rotate-and-Render.git\")\n",
        "#!git clone https://github.com/loggerJK/Rotate-and-Render.git\n",
        "%cd Rotate-and-Render/  \n",
        "!pip install -r requirements.txt\n",
        "%cd /content/\n",
        "!git clone https://github.com/adambielski/neural_renderer.git\n",
        "%cd neural_renderer\n",
        "!sudo python3 setup.py install\n",
        "%cd ../\n",
        "!cp '/content/drive/MyDrive/DATASETS/ckpt_and_bfm.zip' '/content/Rotate-and-Render/3ddfa'\n",
        "! unzip '/content/Rotate-and-Render/3ddfa/ckpt_and_bfm.zip' -d '/content/Rotate-and-Render/3ddfa/'\n",
        "! mkdir -p /content/Rotate-and-Render/checkpoints/rs_model\n",
        "! cp '/content/drive/MyDrive/DATASETS/latest_net_G.pth' '/content/Rotate-and-Render/checkpoints/rs_model'\n",
        "!pip install ipdb dominate face-alignment tensorboard --quiet\n",
        "%cd /content/Rotate-and-Render/3ddfa\n",
        "%cd utils/cython\n",
        "!python3 setup.py build_ext -i\n",
        "%cd /content/Rotate-and-Render"
      ]
    },
    {
      "cell_type": "code",
      "execution_count": null,
      "metadata": {
        "colab": {
          "base_uri": "https://localhost:8080/",
          "height": 35
        },
        "id": "aixaTjmOjZDZ",
        "outputId": "7b489811-4c06-420d-f64d-2c2819bf81f0"
      },
      "outputs": [],
      "source": [
        "# Move Target Img File \n",
        "from shutil import copyfile\n",
        "# copyfile(src, dst)\n",
        "copyfile(target_path, '/content/Rotate-and-Render/3ddfa/example/Images/sample.png')"
      ]
    },
    {
      "cell_type": "code",
      "execution_count": null,
      "metadata": {
        "colab": {
          "base_uri": "https://localhost:8080/"
        },
        "id": "S-8LQKSWgWzK",
        "outputId": "0c02fdbd-17b8-4a55-9c9d-a25c0b0b64f9"
      },
      "outputs": [],
      "source": [
        "!pwd\n",
        "\n",
        "%mv 3ddfa/ckpt_and_bfm/models/ 3ddfa/\n",
        "%mv 3ddfa/ckpt_and_bfm/train.configs/ 3ddfa/"
      ]
    },
    {
      "cell_type": "code",
      "execution_count": null,
      "metadata": {
        "colab": {
          "base_uri": "https://localhost:8080/"
        },
        "id": "QJtat1zPeB7H",
        "outputId": "fe964a66-4036-4b5c-92be-74deecad097b"
      },
      "outputs": [],
      "source": [
        "!python /content/Rotate-and-Render/3ddfa/example/makelist.py\n",
        "%cd /content/Rotate-and-Render/3ddfa\n",
        "!python inference.py --img_list example/file_list.txt --img_prefix example/Images --save_dir results\n",
        "%cd .."
      ]
    },
    {
      "cell_type": "code",
      "execution_count": null,
      "metadata": {
        "colab": {
          "base_uri": "https://localhost:8080/"
        },
        "id": "1r_bl1HvxwN0",
        "outputId": "3118f6d6-7509-4c6e-efdd-90b630f3ac69"
      },
      "outputs": [],
      "source": [
        "os.system(\"python /content/Rotate-and-Render/3ddfa/example/makelist.py\")\n",
        "# os.system(\"%cd /content/Rotate-and-Render/3ddfa \")\n",
        "os.system(\"python /content/Rotate-and-Render/3ddfa/inference.py --img_list /content/Rotate-and-Render/3ddfa/example/file_list.txt --img_prefix /content/Rotate-and-Render/3ddfa/example/Images --save_dir /content/Rotate-and-Render/3ddfa/results \")\n",
        "# os.system(\"%cd ..\")"
      ]
    },
    {
      "cell_type": "code",
      "execution_count": null,
      "metadata": {
        "colab": {
          "base_uri": "https://localhost:8080/"
        },
        "id": "jDt_Pe8Rvo7K",
        "outputId": "250c7a24-32c2-42c0-8b08-91ef348a780d"
      },
      "outputs": [],
      "source": [
        "os.system(\"!CUDA_LAUNCH_BLOCKING=1 python3 /content/Rotate-and-Render/test_multipose.py --names rs_model --dataset example --list_start 0 --list_end  10 --dataset_mode allface --gpu_ids 0 --netG rotatespade --norm_G spectralsyncbatch --model rotatespade --label_nc 5 --nThreads 0 --heatmap_size 2.5 --chunk_size 1 --no_gaussian_landmark --device_count 1 --render_thread 1 --label_mask --align --erode_kernel 21 --yaw_poses 00 00 00 \")"
      ]
    },
    {
      "cell_type": "markdown",
      "metadata": {
        "id": "dh-DTU6xYVho"
      },
      "source": [
        "# RealESRGAN"
      ]
    },
    {
      "cell_type": "code",
      "execution_count": null,
      "metadata": {
        "colab": {
          "base_uri": "https://localhost:8080/"
        },
        "id": "GlR9jKNkYf5U",
        "outputId": "e349f2eb-c99c-459a-ffb0-caed326e0ed5"
      },
      "outputs": [],
      "source": [
        "!pip install git+https://github.com/sberbank-ai/Real-ESRGAN.git --quiet"
      ]
    },
    {
      "cell_type": "code",
      "execution_count": null,
      "metadata": {
        "id": "VU3_XIRjYi8-"
      },
      "outputs": [],
      "source": [
        "import os\n",
        "import torch\n",
        "from PIL import Image\n",
        "import numpy as np\n",
        "from RealESRGAN import RealESRGAN\n",
        "\n",
        "device = torch.device('cuda' if torch.cuda.is_available() else 'cpu')\n",
        "\n",
        "model = RealESRGAN(device, scale=4)\n",
        "model.load_weights('weights/RealESRGAN_x4.pth', download=True)\n",
        "\n",
        "path_to_image = '/content/Rotate-and-Render/results/rs_model/example/orig/yaw_0.0_sample.png'\n",
        "image = Image.open(path_to_image).convert('RGB')\n",
        "\n",
        "sr_image = model.predict(image)\n",
        "\n",
        "output_path = '/content/image.png'\n",
        "sr_image.save(output_path)"
      ]
    },
    {
      "cell_type": "markdown",
      "metadata": {
        "id": "9MmnPjjGbuOf"
      },
      "source": [
        "# Style Your Hair\n"
      ]
    },
    {
      "cell_type": "code",
      "execution_count": null,
      "metadata": {
        "id": "X6WSbUuGf05t"
      },
      "outputs": [],
      "source": [
        "!pip install ninja face_alignment face-recognition gdown ipython matplotlib --quiet"
      ]
    },
    {
      "cell_type": "code",
      "execution_count": null,
      "metadata": {
        "colab": {
          "base_uri": "https://localhost:8080/"
        },
        "id": "zvfffpL-etOy",
        "outputId": "d8fd41e3-815a-446a-c2db-bef5e5f9d0f3"
      },
      "outputs": [],
      "source": [
        "%cd /content/\n",
        "!git clone https://github.com/Taeu/Style-Your-Hair.git\n",
        "%cd Style-Your-Hair"
      ]
    },
    {
      "cell_type": "code",
      "execution_count": null,
      "metadata": {
        "colab": {
          "base_uri": "https://localhost:8080/"
        },
        "id": "WUau3KPze5D4",
        "outputId": "2b39e769-5e82-4a09-f1c1-4a670b875602"
      },
      "outputs": [],
      "source": [
        "!unzip -qq \"/content/drive/MyDrive/Colab Notebooks/AIKU/new_input_ffhq.zip\""
      ]
    },
    {
      "cell_type": "code",
      "execution_count": null,
      "metadata": {
        "id": "HO38mp77fsod"
      },
      "outputs": [],
      "source": [
        "!mkdir -p /content/Style-Your-Hair/ffhq_image"
      ]
    },
    {
      "cell_type": "code",
      "execution_count": null,
      "metadata": {
        "id": "DiKtp0M7fNag"
      },
      "outputs": [],
      "source": [
        "# source image(사용자 이미지)\n",
        "img1 = Image.open('/content/drive/MyDrive/DATASETS/src.jpg')\n",
        "img1 = img1.resize((1024, 1024))\n",
        "img1.save('/content/Style-Your-Hair/ffhq_image/source.png')"
      ]
    },
    {
      "cell_type": "code",
      "execution_count": null,
      "metadata": {
        "id": "tUK0kM1lfOMa"
      },
      "outputs": [],
      "source": [
        "# target image(헤어스타일 이미지)\n",
        "img2 = Image.open(output_path)\n",
        "img2 = img2.resize((1024, 1024))\n",
        "img2.save('/content/Style-Your-Hair/ffhq_image/target.png')"
      ]
    },
    {
      "cell_type": "code",
      "execution_count": null,
      "metadata": {
        "id": "obzipznBvi6m"
      },
      "outputs": [],
      "source": [
        "! cp '/content/drive/MyDrive/DATASETS/ffhq.pt' '/content/Style-Your-Hair/pretrained_models/'\n"
      ]
    },
    {
      "cell_type": "code",
      "execution_count": null,
      "metadata": {
        "colab": {
          "base_uri": "https://localhost:8080/"
        },
        "id": "P9EJ-Aq0fTr1",
        "outputId": "3514a210-ee7f-4429-caae-3bac9aa1462f"
      },
      "outputs": [],
      "source": [
        "!python main.py --input_dir ./ffhq_image/ --im_path1 source.png --im_path2 target.png \\\n",
        "    --output_dir ./style_your_hair_output/ \\\n",
        "    --warp_loss_with_prev_list delta_w style_hair_slic_large \\\n",
        "    --save_all --version final --flip_check"
      ]
    }
  ],
  "metadata": {
    "accelerator": "GPU",
    "colab": {
      "provenance": []
    },
    "gpuClass": "standard",
    "kernelspec": {
      "display_name": "hair",
      "language": "python",
      "name": "python3"
    },
    "language_info": {
      "codemirror_mode": {
        "name": "ipython",
        "version": 3
      },
      "file_extension": ".py",
      "mimetype": "text/x-python",
      "name": "python",
      "nbconvert_exporter": "python",
      "pygments_lexer": "ipython3",
      "version": "3.9.16"
    },
    "vscode": {
      "interpreter": {
        "hash": "98791d649ffed95111ebb418f4f36d31f13f3e9058e36b19a0085a3aeb58d1c9"
      }
    }
  },
  "nbformat": 4,
  "nbformat_minor": 0
}
